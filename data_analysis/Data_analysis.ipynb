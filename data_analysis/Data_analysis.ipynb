{
 "cells": [
  {
   "cell_type": "markdown",
   "id": "1ad16665",
   "metadata": {},
   "source": [
    "data analysis : https://www.machinelearningplus.com/time-series/time-series-analysis-python/"
   ]
  },
  {
   "cell_type": "code",
   "execution_count": null,
   "id": "1bc349c2",
   "metadata": {},
   "outputs": [],
   "source": [
    "datafolder = \"C:\\\\Users\\\\ayesh\\\\Desktop\\\\TUM\\\\Thesis\\\\data\\\\ydata-labeled-time-series-anomalies-v1_0\\\\A1Benchmark\"\n",
    " "
   ]
  }
 ],
 "metadata": {
  "kernelspec": {
   "display_name": "Python 3",
   "language": "python",
   "name": "python3"
  },
  "language_info": {
   "codemirror_mode": {
    "name": "ipython",
    "version": 3
   },
   "file_extension": ".py",
   "mimetype": "text/x-python",
   "name": "python",
   "nbconvert_exporter": "python",
   "pygments_lexer": "ipython3",
   "version": "3.7.7"
  }
 },
 "nbformat": 4,
 "nbformat_minor": 5
}
